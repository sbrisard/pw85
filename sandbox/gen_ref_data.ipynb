{
 "cells": [
  {
   "cell_type": "code",
   "execution_count": null,
   "metadata": {},
   "outputs": [],
   "source": [
    "import itertools"
   ]
  },
  {
   "cell_type": "code",
   "execution_count": null,
   "metadata": {},
   "outputs": [],
   "source": [
    "import h5py\n",
    "import mpmath\n",
    "from mpmath import mp"
   ]
  },
  {
   "cell_type": "code",
   "execution_count": null,
   "metadata": {},
   "outputs": [],
   "source": [
    "eye3 = mp.eye(3)\n",
    "\n",
    "def spheroid_mp(a, c, n):\n",
    "    a2 = a * a\n",
    "    c2_minus_a2 = c * c - a2\n",
    "    return (c*c-a2)*n*n.T+a2*eye3"
   ]
  },
  {
   "cell_type": "code",
   "execution_count": null,
   "metadata": {},
   "outputs": [],
   "source": [
    "def f_mp(lambda_, r12, q1, q2):\n",
    "    one_minus_lambda = 1-lambda_\n",
    "    q = one_minus_lambda*q1+lambda_*q2\n",
    "    s12, _ = mp.qr_solve(q, r12)\n",
    "    return lambda_*one_minus_lambda*(r12.T*s12)[0, 0]"
   ]
  },
  {
   "cell_type": "code",
   "execution_count": null,
   "metadata": {},
   "outputs": [],
   "source": [
    "RADII = [mp.mpf(1999)/mp.mpf(100000),\n",
    "         mp.mpf(1999)/mp.mpf(1000),\n",
    "         mp.mpf(99999)/mp.mpf(1000)]"
   ]
  },
  {
   "cell_type": "code",
   "execution_count": null,
   "metadata": {},
   "outputs": [],
   "source": [
    "golden_ratio = (mp.mpf(1)+mp.sqrt(mp.mpf(5)))/(mp.mpf(2))\n",
    "u_abs = 1./mp.sqrt(1+golden_ratio**2)\n",
    "v_abs = golden_ratio*u_abs\n",
    "DIRECTIONS = []\n",
    "for u in (-u_abs, u_abs):\n",
    "    for v in (-v_abs, v_abs):\n",
    "        DIRECTIONS += [mp.matrix((0., u, v)),\n",
    "                       mp.matrix((v, 0., u)),\n",
    "                       mp.matrix((u, v, 0.))]"
   ]
  },
  {
   "cell_type": "code",
   "execution_count": null,
   "metadata": {},
   "outputs": [],
   "source": [
    "SPHEROIDS = [spheroid_mp(ai, ci, ni) for ai, ci, ni in itertools.product(RADII, RADII, DIRECTIONS)]"
   ]
  },
  {
   "cell_type": "code",
   "execution_count": null,
   "metadata": {},
   "outputs": [],
   "source": [
    "NUM_LAMBDAS = 11\n",
    "LAMBDAS = mp.linspace(0, 1, num_lambdas)"
   ]
  },
  {
   "cell_type": "code",
   "execution_count": null,
   "metadata": {},
   "outputs": [],
   "source": [
    "n = len(SPHEROIDS)**2\n",
    "for i, (q1, q2) in enumerate(itertools.product(SPHEROIDS, SPHEROIDS), 1):\n",
    "    print(f'{i}/{n}')\n",
    "    for r12_dir in DIRECTIONS:\n",
    "        for lambda_ in LAMBDAS:\n",
    "            x = f_mp(lambda_, r12_dir, q1, q2)"
   ]
  },
  {
   "cell_type": "code",
   "execution_count": null,
   "metadata": {},
   "outputs": [],
   "source": [
    "with h5py.File('test.h5', 'w') as f:\n",
    "    f['radii'] = [float(r) for r in RADII]\n",
    "    f['directions'] = [(float(x), float(y), float(z)) for x, y, z in DIRECTIONS]\n",
    "    f['lambdas'] = [float(val) for val in LAMBDAS]\n",
    "    \n",
    "    num_radii = len(RADII)\n",
    "    num_dirs = len(DIRECTIONS)\n",
    "    \n",
    "    shape = 2*(2*(len(RADII),)+(len(DIRECTIONS),))+(len(DIRECTIONS), NUM_LAMBDAS)\n",
    "    \n",
    "    dset = f.create_dataset('f', shape=shape, dtype='d')\n",
    "    dset[0, 0, 0, 0, 0, 0, 0] = np.linspace(0., 1., 11)"
   ]
  },
  {
   "cell_type": "code",
   "execution_count": null,
   "metadata": {},
   "outputs": [],
   "source": []
  }
 ],
 "metadata": {
  "kernelspec": {
   "display_name": "Python 3",
   "language": "python",
   "name": "python3"
  },
  "language_info": {
   "codemirror_mode": {
    "name": "ipython",
    "version": 3
   },
   "file_extension": ".py",
   "mimetype": "text/x-python",
   "name": "python",
   "nbconvert_exporter": "python",
   "pygments_lexer": "ipython3",
   "version": "3.6.8"
  }
 },
 "nbformat": 4,
 "nbformat_minor": 2
}
