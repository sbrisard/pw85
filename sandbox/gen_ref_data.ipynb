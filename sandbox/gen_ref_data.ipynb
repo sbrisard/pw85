{
 "cells": [
  {
   "cell_type": "code",
   "execution_count": null,
   "metadata": {},
   "outputs": [],
   "source": [
    "import itertools"
   ]
  },
  {
   "cell_type": "code",
   "execution_count": null,
   "metadata": {},
   "outputs": [],
   "source": [
    "import h5py\n",
    "import mpmath\n",
    "from mpmath import mp"
   ]
  },
  {
   "cell_type": "code",
   "execution_count": null,
   "metadata": {},
   "outputs": [],
   "source": [
    "eye3 = mp.eye(3)\n",
    "\n",
    "def spheroid_mp(a, c, n):\n",
    "    a2 = a * a\n",
    "    c2_minus_a2 = c * c - a2\n",
    "    return (c*c-a2)*n*n.T+a2*eye3"
   ]
  },
  {
   "cell_type": "code",
   "execution_count": null,
   "metadata": {},
   "outputs": [],
   "source": [
    "def f_mp(lambda_, r12, q1, q2):\n",
    "    one_minus_lambda = 1-lambda_\n",
    "    q = one_minus_lambda*q1+lambda_*q2\n",
    "    s12, _ = mp.qr_solve(q, r12)\n",
    "    return lambda_*one_minus_lambda*(r12.T*s12)[0, 0]"
   ]
  },
  {
   "cell_type": "code",
   "execution_count": null,
   "metadata": {},
   "outputs": [],
   "source": [
    "radii = [mp.mpf(1999)/mp.mpf(100000),\n",
    "         mp.mpf(1999)/mp.mpf(1000),\n",
    "         mp.mpf(99999)/mp.mpf(1000)]"
   ]
  },
  {
   "cell_type": "code",
   "execution_count": null,
   "metadata": {},
   "outputs": [],
   "source": [
    "golden_ratio = (mp.mpf(1)+mp.sqrt(mp.mpf(5)))/(mp.mpf(2))\n",
    "u_abs = 1./mp.sqrt(1+golden_ratio**2)\n",
    "v_abs = golden_ratio*u_abs\n",
    "directions = []\n",
    "for u in (-u_abs, u_abs):\n",
    "    for v in (-v_abs, v_abs):\n",
    "        directions += [mp.matrix((0., u, v)),\n",
    "                       mp.matrix((v, 0., u)),\n",
    "                       mp.matrix((u, v, 0.))]"
   ]
  },
  {
   "cell_type": "code",
   "execution_count": null,
   "metadata": {},
   "outputs": [],
   "source": [
    "spheroids = [spheroid_mp(ai, ci, ni) for ai, ci, ni in itertools.product(radii, radii, directions)]"
   ]
  },
  {
   "cell_type": "code",
   "execution_count": null,
   "metadata": {},
   "outputs": [],
   "source": [
    "num_lambdas = 11\n",
    "lambdas = mp.linspace(0, 1, num_lambdas)"
   ]
  },
  {
   "cell_type": "code",
   "execution_count": null,
   "metadata": {},
   "outputs": [],
   "source": [
    "num_radii = len(radii)\n",
    "num_dirs = len(directions)\n",
    "num_spheroids = len(spheroids)\n",
    "num_blocks = num_spheroids**2\n",
    "\n",
    "with h5py.File('test.h5', 'w') as f:\n",
    "    f['radii'] = [float(r) for r in radii]\n",
    "    f['directions'] = [(float(x), float(y), float(z)) for x, y, z in directions]\n",
    "    f['lambdas'] = [float(val) for val in lambdas]\n",
    "    dset = f.create_dataset('spheroids', shape=(num_spheroids, 6), dtype='d')\n",
    "    for i, q in enumerate(spheroids):\n",
    "        dset[i, 0] = float(q[0, 0])\n",
    "        dset[i, 1] = float(q[0, 1])\n",
    "        dset[i, 2] = float(q[0, 2])\n",
    "        dset[i, 3] = float(q[1, 1])\n",
    "        dset[i, 4] = float(q[1, 2])\n",
    "        dset[i, 5] = float(q[2, 2])\n",
    "    \n",
    "    shape = (num_spheroids, num_spheroids,\n",
    "             num_dirs, num_lambdas)\n",
    "    \n",
    "    dset = f.create_dataset('f', shape=shape, dtype='d')\n",
    "    block = np.empty((num_dirs, num_lambdas), dtype=np.float64)\n",
    "    for i1, q1 in enumerate(spheroids):\n",
    "        print(f'{i1+1}/{num_spheroids}')\n",
    "        for i2, q2 in enumerate(spheroids):\n",
    "            for i, r12_dir in enumerate(directions):\n",
    "                for j, lambda_ in enumerate(lambdas):\n",
    "                    block[i, j] = float(f_mp(lambda_, r12_dir, q1, q2))\n",
    "            dset[i1, i2, :, :] = block[:, :]\n",
    "            f.flush()"
   ]
  },
  {
   "cell_type": "code",
   "execution_count": null,
   "metadata": {},
   "outputs": [],
   "source": []
  }
 ],
 "metadata": {
  "kernelspec": {
   "display_name": "Python 3",
   "language": "python",
   "name": "python3"
  },
  "language_info": {
   "codemirror_mode": {
    "name": "ipython",
    "version": 3
   },
   "file_extension": ".py",
   "mimetype": "text/x-python",
   "name": "python",
   "nbconvert_exporter": "python",
   "pygments_lexer": "ipython3",
   "version": "3.6.8"
  }
 },
 "nbformat": 4,
 "nbformat_minor": 2
}
