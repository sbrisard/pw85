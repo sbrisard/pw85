{
 "cells": [
  {
   "cell_type": "markdown",
   "metadata": {},
   "source": [
    "# Using the Cholesky decomposition for the PW85 algorithm"
   ]
  },
  {
   "cell_type": "code",
   "execution_count": null,
   "metadata": {},
   "outputs": [],
   "source": [
    "import sympy"
   ]
  },
  {
   "cell_type": "code",
   "execution_count": null,
   "metadata": {},
   "outputs": [],
   "source": [
    "dim = 3\n",
    "sym = (dim*(dim+1))//2"
   ]
  },
  {
   "cell_type": "markdown",
   "metadata": {},
   "source": [
    "## Cholesky decomposition of a 3×3 matrix"
   ]
  },
  {
   "cell_type": "code",
   "execution_count": null,
   "metadata": {},
   "outputs": [],
   "source": [
    "a0, a1, a2, a3, a4, a5 = [sympy.Symbol(f'a{i}') for i in range(sym)]\n",
    "\n",
    "A = sympy.Matrix([[a0, a1, a2],\n",
    "                  [a1, a3, a4],\n",
    "                  [a2, a4, a5]])\n",
    "A"
   ]
  },
  {
   "cell_type": "code",
   "execution_count": null,
   "metadata": {},
   "outputs": [],
   "source": [
    "def l_ij(i, j):\n",
    "    if i < j:\n",
    "        return 0\n",
    "    else:\n",
    "        return sympy.Symbol('l{}{}'.format(i, j))\n",
    "\n",
    "L = sympy.Matrix(dim, dim, l_ij)\n",
    "L"
   ]
  },
  {
   "cell_type": "code",
   "execution_count": null,
   "metadata": {},
   "outputs": [],
   "source": [
    "LLT = L@L.T\n",
    "LLT"
   ]
  },
  {
   "cell_type": "code",
   "execution_count": null,
   "metadata": {},
   "outputs": [],
   "source": [
    "eqs = []\n",
    "for i in range(dim):\n",
    "    for j in range(i, dim):\n",
    "        eqs.append(sympy.Equality(LLT[i, j], A[i, j]))\n",
    "        display(eqs[-1])"
   ]
  }
 ],
 "metadata": {
  "kernelspec": {
   "display_name": "Python 3",
   "language": "python",
   "name": "python3"
  },
  "language_info": {
   "codemirror_mode": {
    "name": "ipython",
    "version": 3
   },
   "file_extension": ".py",
   "mimetype": "text/x-python",
   "name": "python",
   "nbconvert_exporter": "python",
   "pygments_lexer": "ipython3",
   "version": "3.6.8"
  }
 },
 "nbformat": 4,
 "nbformat_minor": 2
}
