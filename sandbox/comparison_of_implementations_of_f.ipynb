{
 "cells": [
  {
   "cell_type": "markdown",
   "metadata": {},
   "source": [
    "# Comparison of two implementations of the function f"
   ]
  },
  {
   "cell_type": "code",
   "execution_count": null,
   "metadata": {},
   "outputs": [],
   "source": [
    "import itertools\n",
    "import numpy as np"
   ]
  },
  {
   "cell_type": "code",
   "execution_count": null,
   "metadata": {},
   "outputs": [],
   "source": [
    "import pypw85"
   ]
  },
  {
   "cell_type": "code",
   "execution_count": null,
   "metadata": {},
   "outputs": [],
   "source": [
    "def gen_directions():\n",
    "    # Use some vertices of icosahedron\n",
    "    golden_ratio = (1.+np.sqrt(5.))/2.\n",
    "    norm = np.sqrt(1+golden_ratio**2)\n",
    "    u_abs = 1./norm\n",
    "    v_abs = golden_ratio/norm\n",
    "    out = []\n",
    "    for u in (-u_abs, u_abs):\n",
    "        for v in (-v_abs, v_abs):\n",
    "            out += [np.array((0., u, v), dtype=np.float64),\n",
    "                    np.array((v, 0., u), dtype=np.float64),\n",
    "                    np.array((u, v, 0.), dtype=np.float64)]\n",
    "    return np.array(out, dtype=np.float64)\n",
    "\n",
    "\n",
    "radii = np.array([0.0199, 1.999, 9.999], dtype=np.float64)\n",
    "directions = gen_directions()"
   ]
  },
  {
   "cell_type": "code",
   "execution_count": null,
   "metadata": {},
   "outputs": [],
   "source": [
    "spheroids = [pypw85.spheroid(a, c, n) for a, c, n in itertools.product(radii, radii, directions)]"
   ]
  },
  {
   "cell_type": "code",
   "execution_count": null,
   "metadata": {},
   "outputs": [],
   "source": [
    "lambdas = np.linspace(0., 1., num=11)"
   ]
  },
  {
   "cell_type": "code",
   "execution_count": null,
   "metadata": {},
   "outputs": [],
   "source": [
    "for i1, q1 in enumerate(spheroids):\n",
    "    print(\"{}/{}\".format(i1+1, len(spheroids)))\n",
    "    for q2 in spheroids:\n",
    "        errors = []\n",
    "        for r12_dir in directions:\n",
    "            for r12_norm in radii:\n",
    "                for lambda_ in lambdas:\n",
    "                    new_f = pypw85.f(lambda_, r12_norm*r12_dir, q1, q2)\n",
    "                    old_f = pypw85.f_old(lambda_, r12_norm*r12_dir, q1, q2)\n",
    "                    if np.abs(old_f-new_f) > 1e-10*np.abs(new_f):\n",
    "                        print(old_f, new_f, old_f-new_f)"
   ]
  }
 ],
 "metadata": {
  "kernelspec": {
   "display_name": "Python 3",
   "language": "python",
   "name": "python3"
  },
  "language_info": {
   "codemirror_mode": {
    "name": "ipython",
    "version": 3
   },
   "file_extension": ".py",
   "mimetype": "text/x-python",
   "name": "python",
   "nbconvert_exporter": "python",
   "pygments_lexer": "ipython3",
   "version": "3.6.8"
  }
 },
 "nbformat": 4,
 "nbformat_minor": 2
}
