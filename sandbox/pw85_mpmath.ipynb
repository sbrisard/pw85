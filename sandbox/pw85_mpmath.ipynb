{
 "cells": [
  {
   "cell_type": "code",
   "execution_count": null,
   "metadata": {},
   "outputs": [],
   "source": [
    "import numpy as np\n",
    "import mpmath"
   ]
  },
  {
   "cell_type": "code",
   "execution_count": null,
   "metadata": {},
   "outputs": [],
   "source": [
    "from mpmath import mp"
   ]
  },
  {
   "cell_type": "code",
   "execution_count": null,
   "metadata": {},
   "outputs": [],
   "source": [
    "mp.dps = 50 \n",
    "_0 = mp.mpf(0)\n",
    "_1 = mp.mpf(1)\n",
    "_2 = mp.mpf(2)\n",
    "_3 = mp.mpf(3)\n",
    "_4 = mp.mpf(4)\n",
    "_5 = mp.mpf(5)\n",
    "_6 = mp.mpf(6)\n",
    "_7 = mp.mpf(7)\n",
    "_8 = mp.mpf(8)"
   ]
  },
  {
   "cell_type": "code",
   "execution_count": null,
   "metadata": {},
   "outputs": [],
   "source": [
    "def det_sym(a):\n",
    "    return a[0] * a[3] * a[5] + _2 * a[1] * a[2] * a[4] - a[0] * a[4] * a[4] - a[3] * a[2] * a[2] - a[5] * a[1] * a[1]"
   ]
  },
  {
   "cell_type": "code",
   "execution_count": null,
   "metadata": {},
   "outputs": [],
   "source": [
    "def xT_adjA_x(x, a):\n",
    "    return (x[0] * x[0] * (a[3] * a[5] - a[4] * a[4])\n",
    "            + x[1] * x[1] * (a[0] * a[5] - a[2] * a[2])\n",
    "            + x[2] * x[2] * (a[0] * a[3] - a[1] * a[1])\n",
    "            + _2 * (x[0] * x[1] * (a[2] * a[4] - a[1] * a[5])\n",
    "                    + x[0] * x[2] * (a[1] * a[4] - a[2] * a[3])\n",
    "                    + x[1] * x[2] * (a[1] * a[2] - a[0] * a[4])))"
   ]
  },
  {
   "cell_type": "code",
   "execution_count": null,
   "metadata": {},
   "outputs": [],
   "source": [
    "def rT_adjQ_r_as_poly(r, q1, q2, q3):\n",
    "    a_zero = xT_adjA_x(r, q1)\n",
    "    a_one = xT_adjA_x(r, q2)\n",
    "    a_minus_one = xT_adjA_x(r, q3)\n",
    "    return np.array([a_zero,\n",
    "                     (a_one - a_minus_one)/_2,\n",
    "                     (a_one + a_minus_one)/_2 - a_zero,])"
   ]
  },
  {
   "cell_type": "code",
   "execution_count": null,
   "metadata": {},
   "outputs": [],
   "source": [
    "def detQ_as_poly(q1, q2, q3, q4):\n",
    "    b_zero = det_sym(q1)\n",
    "    b_one = det_sym(q2)\n",
    "    b_minus_one = det_sym(q3)\n",
    "    b_one_half = det_sym(q4)\n",
    "    return np.array([b_zero,\n",
    "                     (_8 * b_one_half - _6 * b_zero - _3/_2 * b_one - b_minus_one/_2) / _3,\n",
    "                     (b_one + b_minus_one)/_2 - b_zero,                     \n",
    "                     (-_8 * b_one_half + _6 * b_zero + _3 * b_one - b_minus_one) / _3])"
   ]
  },
  {
   "cell_type": "code",
   "execution_count": null,
   "metadata": {},
   "outputs": [],
   "source": [
    "def spheroid(a, c, n):\n",
    "    a2 = a * a\n",
    "    c2_minus_a2 = c * c - a2\n",
    "    nx = n[0]\n",
    "    ny = n[1]\n",
    "    nz = n[2]\n",
    "    return np.array([nx * nx * c2_minus_a2 + a2,\n",
    "                     nx * ny * c2_minus_a2,\n",
    "                     nx * nz * c2_minus_a2,\n",
    "                     ny * ny * c2_minus_a2 + a2,\n",
    "                     ny * nz * c2_minus_a2,\n",
    "                     nz * nz * c2_minus_a2 + a2])"
   ]
  },
  {
   "cell_type": "code",
   "execution_count": null,
   "metadata": {},
   "outputs": [],
   "source": [
    "def contact_function(r12, q1, q2):\n",
    "    q3 = _2*q1-q2\n",
    "    q4 = (q1+q2)/_2\n",
    "    a = rT_adjQ_r_as_poly(r12, q1, q2, q3)\n",
    "    b = detQ_as_poly(q1, q2, q3, q4)\n",
    "    \n",
    "    c0 = a[0] * b[0]\n",
    "    c1 = _2 * (a[1] - a[0]) * b[0]\n",
    "    c2 = -a[0] * (b[1] + b[2]) + _3 * b[0] * (a[2] - a[1]) + a[1] * b[1]\n",
    "    c3 = _2 * (b[1] * (a[2] - a[1]) - a[0] * b[3]) - _4 * a[2] * b[0]\n",
    "    c4 = (a[0] - a[1]) * b[3] + (a[2] - a[1]) * b[2] - _3 * a[2] * b[1]\n",
    "    c5 = -_2 * a[2] * b[2]\n",
    "    c6 = -a[2] * b[3]\n",
    "    xl = _0\n",
    "    yl = c0\n",
    "    xr = _1\n",
    "    yr = c0 + c1 + c2 + c3 + c4 + c5 + c6\n",
    "    while (mp.absmax(xr - xl) > 1e-15*(xl+xr)):\n",
    "        x = (xl + xr)/_2\n",
    "        y = c0 + x * (c1 + x * (c2 + x * (c3 + x * (c4 + x * (c5 + x * c6)))))\n",
    "        if y == _0:\n",
    "            break\n",
    "        elif yl * y < _0:\n",
    "            xr = x\n",
    "            yr = y\n",
    "        else:\n",
    "            xl = x\n",
    "            yl = y\n",
    "    y = x * (_1 - x) * (a[0] + x * (a[1] + x * a[2])) / (b[0] + x * (b[1] + x * (b[2] + x * b[3])))\n",
    "    return np.array([y, x])"
   ]
  },
  {
   "cell_type": "code",
   "execution_count": null,
   "metadata": {},
   "outputs": [],
   "source": [
    "golden_ratio = (1.+mp.sqrt(_5))/_2"
   ]
  },
  {
   "cell_type": "code",
   "execution_count": null,
   "metadata": {},
   "outputs": [],
   "source": [
    "norm = mp.sqrt(_1+golden_ratio**2)\n",
    "u_abs = _1/norm\n",
    "v_abs = golden_ratio/norm"
   ]
  },
  {
   "cell_type": "code",
   "execution_count": null,
   "metadata": {},
   "outputs": [],
   "source": [
    "r = np.array([_0, u_abs, v_abs])\n",
    "n1 = np.array([_0, u_abs, v_abs])\n",
    "n2 = np.array([_0, u_abs, v_abs])\n",
    "a1 = c1 = mp.mpf(1999)/mp.mpf(1000)\n",
    "a2 = c2 = mp.mpf(199)/mp.mpf(10000)"
   ]
  },
  {
   "cell_type": "code",
   "execution_count": null,
   "metadata": {},
   "outputs": [],
   "source": [
    "q1 = spheroid(a1, c1, n1)\n",
    "q2 = spheroid(a2, c2, n2)"
   ]
  },
  {
   "cell_type": "code",
   "execution_count": null,
   "metadata": {},
   "outputs": [],
   "source": [
    "mu2, lambda_ = contact_function(r, q1, q2)\n",
    "print('mu2 = {}'.format(mu2))\n",
    "print('lambda_ = {}'.format(lambda_))"
   ]
  },
  {
   "cell_type": "code",
   "execution_count": null,
   "metadata": {},
   "outputs": [],
   "source": [
    "r_norm = np.linalg.norm(r)\n",
    "r_norm"
   ]
  },
  {
   "cell_type": "code",
   "execution_count": null,
   "metadata": {},
   "outputs": [],
   "source": [
    "mu2_expected = (r_norm/(a1+a2))**2\n",
    "mu2_expected"
   ]
  }
 ],
 "metadata": {
  "kernelspec": {
   "display_name": "Python 3",
   "language": "python",
   "name": "python3"
  },
  "language_info": {
   "codemirror_mode": {
    "name": "ipython",
    "version": 3
   },
   "file_extension": ".py",
   "mimetype": "text/x-python",
   "name": "python",
   "nbconvert_exporter": "python",
   "pygments_lexer": "ipython3",
   "version": "3.6.8"
  }
 },
 "nbformat": 4,
 "nbformat_minor": 2
}
