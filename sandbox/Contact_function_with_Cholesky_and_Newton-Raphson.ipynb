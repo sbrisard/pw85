{
 "cells": [
  {
   "cell_type": "markdown",
   "metadata": {},
   "source": [
    "# Computation of the contact function using the Cholesky decomposition of Q and a Newton-Raphson approach"
   ]
  },
  {
   "cell_type": "code",
   "execution_count": null,
   "metadata": {},
   "outputs": [],
   "source": [
    "import matplotlib.pyplot as plt\n",
    "import numpy as np\n",
    "import scipy.linalg\n",
    "import scipy.optimize"
   ]
  },
  {
   "cell_type": "code",
   "execution_count": null,
   "metadata": {},
   "outputs": [],
   "source": [
    "%matplotlib inline"
   ]
  },
  {
   "cell_type": "code",
   "execution_count": null,
   "metadata": {},
   "outputs": [],
   "source": [
    "import pypw85"
   ]
  },
  {
   "cell_type": "code",
   "execution_count": null,
   "metadata": {},
   "outputs": [],
   "source": [
    "def to_array_2d(a):\n",
    "    return np.array([[a[0], a[1], a[2]],\n",
    "                     [a[1], a[3], a[4]],\n",
    "                     [a[2], a[4], a[5]]])"
   ]
  },
  {
   "cell_type": "code",
   "execution_count": null,
   "metadata": {},
   "outputs": [],
   "source": [
    "golden_ratio = (1.+np.sqrt(5.))/2.\n",
    "norm = np.sqrt(1+golden_ratio**2)\n",
    "u_abs = 1./norm\n",
    "v_abs = golden_ratio/norm\n",
    "\n",
    "r = np.array([0., u_abs, v_abs])\n",
    "n1 = np.array([0., u_abs, v_abs])\n",
    "n2 = np.array([0., u_abs, v_abs])\n",
    "a1 = c1 = 1.999\n",
    "a2 = c2 = 0.0199\n",
    "\n",
    "q1 = pypw85.spheroid(a1, c1, n1)\n",
    "q2 = pypw85.spheroid(a2, c2, n2)\n",
    "\n",
    "out = np.empty((2,), dtype=np.float64)\n",
    "pypw85.contact_function(r, q1, q2, out)\n",
    "μ2, λ = out\n",
    "\n",
    "print('μ² = {} (actual value)'.format(μ2))\n",
    "print('λ  = {} (actual value)'.format(λ))\n",
    "\n",
    "Q1, Q2 = to_array_2d(q1), to_array_2d(q2)\n",
    "Q = (1-λ)*Q1 + λ*Q2\n",
    "\n",
    "y = np.linalg.solve(Q, r)\n",
    "print('y = {}'.format(y))\n",
    "\n",
    "c1_x0 = np.dot((1-λ)*Q1, y)\n",
    "c2_x0 = -np.dot(λ*Q2, y)\n",
    "r_actual = c1_x0-c2_x0\n",
    "print(r_actual, r)\n",
    "\n",
    "μ2_1 = np.linalg.solve(Q1, c1_x0).dot(c1_x0)\n",
    "μ2_2 = np.linalg.solve(Q2, c2_x0).dot(c2_x0)\n",
    "\n",
    "print('μ²  = {} (value found from the contact_function routine)'.format(μ2))\n",
    "print('μ₁² = {} (first post-processed value)'.format(μ2_1))\n",
    "print('μ₂² = {} (second post-processed value)'.format(μ2_2))"
   ]
  },
  {
   "cell_type": "code",
   "execution_count": null,
   "metadata": {},
   "outputs": [],
   "source": [
    "def f(λ, r, Q1, Q2):\n",
    "    Q = (1-λ)*Q1+λ*Q2\n",
    "    L = scipy.linalg.cholesky(Q, lower=True)\n",
    "    LTs = scipy.linalg.solve_triangular(L, r, lower=True)\n",
    "    s = scipy.linalg.solve_triangular(L, LTs, lower=True, trans=1)\n",
    "    return λ*(1-λ)*r.dot(s)\n",
    "\n",
    "def f1(λ, r, Q1, Q2):\n",
    "    Q = (1-λ)*Q1+λ*Q2\n",
    "    print(Q)\n",
    "    dQ = Q2-Q1\n",
    "    L = scipy.linalg.cholesky(Q, lower=True)\n",
    "    LTs = scipy.linalg.solve_triangular(L, r, lower=True)\n",
    "    s = scipy.linalg.solve_triangular(L, LTs, lower=True, trans=1)\n",
    "    return (1-2*λ)*r.dot(s)-λ*(1-λ)*s.dot(dQ.dot(s))\n",
    "\n",
    "def f2(λ, r, Q1, Q2):\n",
    "    Q = (1-λ)*Q1+λ*Q2\n",
    "    Q_prime = Q2-Q1\n",
    "    L = scipy.linalg.cholesky(Q, lower=True)\n",
    "    LTs = scipy.linalg.solve_triangular(L, r, lower=True)\n",
    "    s = scipy.linalg.solve_triangular(L, LTs, lower=True, trans=1)\n",
    "    u = Q_prime.dot(s)\n",
    "    LTv = scipy.linalg.solve_triangular(L, u, lower=True)\n",
    "    v = scipy.linalg.solve_triangular(L, LTv, lower=True, trans=1)\n",
    "    return -2*r.dot(s)-2*(1-2*λ)*s.dot(u)+2*λ*(1-λ)*u.dot(v)"
   ]
  },
  {
   "cell_type": "code",
   "execution_count": null,
   "metadata": {},
   "outputs": [],
   "source": [
    "x = np.linspace(0., 1.0, num=1001)\n",
    "y = np.array([f(x_i, r, Q1, Q2) for x_i in x])\n",
    "y1 = np.array([f1(x_i, r, Q1, Q2) for x_i in x])"
   ]
  },
  {
   "cell_type": "code",
   "execution_count": null,
   "metadata": {},
   "outputs": [],
   "source": [
    "plt.plot(x, y1)\n",
    "plt.ylim((-0.3, 0.3))"
   ]
  },
  {
   "cell_type": "code",
   "execution_count": null,
   "metadata": {},
   "outputs": [],
   "source": [
    "μ2_exp = (np.linalg.norm(r)/(a1+a2))**2"
   ]
  },
  {
   "cell_type": "code",
   "execution_count": null,
   "metadata": {},
   "outputs": [],
   "source": [
    "μ2_exp"
   ]
  },
  {
   "cell_type": "code",
   "execution_count": null,
   "metadata": {},
   "outputs": [],
   "source": [
    "x_opt = scipy.optimize.newton(lambda x: f1(x, r, Q1, Q2), 1.0, fprime=lambda x: f2(x, r, Q1, Q2))"
   ]
  },
  {
   "cell_type": "code",
   "execution_count": null,
   "metadata": {},
   "outputs": [],
   "source": [
    "(f(x_opt, r, Q1, Q2)-μ2_exp)/μ2_exp"
   ]
  }
 ],
 "metadata": {
  "kernelspec": {
   "display_name": "Python 3",
   "language": "python",
   "name": "python3"
  },
  "language_info": {
   "codemirror_mode": {
    "name": "ipython",
    "version": 3
   },
   "file_extension": ".py",
   "mimetype": "text/x-python",
   "name": "python",
   "nbconvert_exporter": "python",
   "pygments_lexer": "ipython3",
   "version": "3.6.8"
  }
 },
 "nbformat": 4,
 "nbformat_minor": 2
}
